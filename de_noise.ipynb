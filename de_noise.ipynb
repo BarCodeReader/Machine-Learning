{
  "nbformat": 4,
  "nbformat_minor": 0,
  "metadata": {
    "colab": {
      "name": "de-noise.ipynb",
      "version": "0.3.2",
      "provenance": [],
      "collapsed_sections": [],
      "include_colab_link": true
    },
    "kernelspec": {
      "name": "python3",
      "display_name": "Python 3"
    }
  },
  "cells": [
    {
      "cell_type": "markdown",
      "metadata": {
        "id": "view-in-github",
        "colab_type": "text"
      },
      "source": [
        "<a href=\"https://colab.research.google.com/github/BarCodeReader/Machine-Learning/blob/master/de_noise.ipynb\" target=\"_parent\"><img src=\"https://colab.research.google.com/assets/colab-badge.svg\" alt=\"Open In Colab\"/></a>"
      ]
    },
    {
      "cell_type": "code",
      "metadata": {
        "id": "BGISBmuEoL5V",
        "colab_type": "code",
        "colab": {
          "base_uri": "https://localhost:8080/",
          "height": 269
        },
        "outputId": "68bea55f-45e6-4657-d49f-8812b436556b"
      },
      "source": [
        "from keras.layers import Input, Dense, Conv2D, MaxPooling2D, UpSampling2D\n",
        "from keras.models import Model\n",
        "from keras import backend as K\n",
        "from keras.datasets import mnist\n",
        "import numpy as np\n",
        "import matplotlib.pyplot as plt\n",
        "\n",
        "#data\n",
        "(x_train, _), (x_test, _) = mnist.load_data()\n",
        "\n",
        "x_train = x_train.astype('float32') / 255.\n",
        "x_test = x_test.astype('float32') / 255.\n",
        "x_train = np.reshape(x_train, (len(x_train), 28, 28, 1))\n",
        "x_test = np.reshape(x_test, (len(x_test), 28, 28, 1))\n",
        "\n",
        "#noise data\n",
        "noise_factor = 0.5\n",
        "x_train_noisy = x_train + noise_factor * np.random.normal(loc=0.0, scale=1.0, size=x_train.shape) \n",
        "x_test_noisy = x_test + noise_factor * np.random.normal(loc=0.0, scale=1.0, size=x_test.shape) \n",
        "\n",
        "x_train_noisy = np.clip(x_train_noisy, 0., 1.)\n",
        "x_test_noisy = np.clip(x_test_noisy, 0., 1.)\n",
        "\n",
        "\n",
        "#visualize\n",
        "plt.imshow(x_test_noisy[3].reshape(28, 28))\n",
        "plt.gray()\n",
        "plt.axis('off')"
      ],
      "execution_count": 105,
      "outputs": [
        {
          "output_type": "display_data",
          "data": {
            "image/png": "[encoded data removed]",
            "text/plain": [
              "<Figure size 432x288 with 1 Axes>"
            ]
          },
          "metadata": {
            "tags": []
          }
        }
      ]
    },
    {
      "cell_type": "code",
      "metadata": {
        "id": "zxq_-PNIG1-e",
        "colab_type": "code",
        "colab": {}
      },
      "source": [
        "#customized callback\n",
        "#when val_loss is larger than loss, i.e. overfitting occurs, stop training\n",
        "class MyCallBack(keras.callbacks.Callback):\n",
        "  def on_epoch_end(self, epoch, logs={}):\n",
        "    if logs.get('loss')<logs.get('val_loss'):\n",
        "      self.model.stop_training = True\n",
        "          \n",
        "CB = MyCallBack()"
      ],
      "execution_count": 0,
      "outputs": []
    },
    {
      "cell_type": "code",
      "metadata": {
        "id": "8jMPELaynQu8",
        "colab_type": "code",
        "colab": {
          "base_uri": "https://localhost:8080/",
          "height": 1000
        },
        "outputId": "82c3e8fc-ce15-421e-a140-36e20c45add2"
      },
      "source": [
        "#model\n",
        "input_img = Input(shape=(28, 28, 1))\n",
        "\n",
        "x = Conv2D(32, (3, 3), activation='relu', padding='same')(input_img)\n",
        "x = MaxPooling2D((2, 2), padding='same')(x)\n",
        "x = Conv2D(32, (3, 3), activation='relu', padding='same')(x)\n",
        "encoded = MaxPooling2D((2, 2), padding='same')(x)\n",
        "\n",
        "# at this point the representation is (7, 7, 32)\n",
        "\n",
        "x = Conv2D(32, (3, 3), activation='relu', padding='same')(encoded)\n",
        "x = UpSampling2D((2, 2))(x)\n",
        "x = Conv2D(32, (3, 3), activation='relu', padding='same')(x)\n",
        "x = UpSampling2D((2, 2))(x)\n",
        "decoded = Conv2D(1, (3, 3), activation='sigmoid', padding='same')(x)\n",
        "\n",
        "#compile the model\n",
        "autoencoder = Model(input_img, decoded)\n",
        "autoencoder.compile(optimizer='adam', loss='binary_crossentropy')\n",
        "autoencoder.summary()\n",
        "\n",
        "autoencoder.fit(x_train_noisy, x_train,\n",
        "                epochs=20,\n",
        "                batch_size=128,\n",
        "                shuffle=True,\n",
        "                validation_data=(x_test_noisy, x_test),\n",
        "                callbacks = [CB])"
      ],
      "execution_count": 115,
      "outputs": [
        {
          "output_type": "stream",
          "text": [
            "_________________________________________________________________\n",
            "Layer (type)                 Output Shape              Param #   \n",
            "=================================================================\n",
            "input_21 (InputLayer)        (None, 28, 28, 1)         0         \n",
            "_________________________________________________________________\n",
            "conv2d_115 (Conv2D)          (None, 28, 28, 32)        320       \n",
            "_________________________________________________________________\n",
            "max_pooling2d_48 (MaxPooling (None, 14, 14, 32)        0         \n",
            "_________________________________________________________________\n",
            "conv2d_116 (Conv2D)          (None, 14, 14, 32)        9248      \n",
            "_________________________________________________________________\n",
            "max_pooling2d_49 (MaxPooling (None, 7, 7, 32)          0         \n",
            "_________________________________________________________________\n",
            "conv2d_117 (Conv2D)          (None, 7, 7, 32)          9248      \n",
            "_________________________________________________________________\n",
            "up_sampling2d_48 (UpSampling (None, 14, 14, 32)        0         \n",
            "_________________________________________________________________\n",
            "conv2d_118 (Conv2D)          (None, 14, 14, 32)        9248      \n",
            "_________________________________________________________________\n",
            "up_sampling2d_49 (UpSampling (None, 28, 28, 32)        0         \n",
            "_________________________________________________________________\n",
            "conv2d_119 (Conv2D)          (None, 28, 28, 1)         289       \n",
            "=================================================================\n",
            "Total params: 28,353\n",
            "Trainable params: 28,353\n",
            "Non-trainable params: 0\n",
            "_________________________________________________________________\n",
            "Train on 60000 samples, validate on 10000 samples\n",
            "Epoch 1/20\n",
            "60000/60000 [==============================] - 166s 3ms/step - loss: 0.1633 - val_loss: 0.1161\n",
            "Epoch 2/20\n",
            "60000/60000 [==============================] - 161s 3ms/step - loss: 0.1128 - val_loss: 0.1080\n",
            "Epoch 3/20\n",
            "60000/60000 [==============================] - 161s 3ms/step - loss: 0.1074 - val_loss: 0.1057\n",
            "Epoch 4/20\n",
            "60000/60000 [==============================] - 162s 3ms/step - loss: 0.1047 - val_loss: 0.1028\n",
            "Epoch 5/20\n",
            "60000/60000 [==============================] - 161s 3ms/step - loss: 0.1027 - val_loss: 0.1010\n",
            "Epoch 6/20\n",
            "60000/60000 [==============================] - 161s 3ms/step - loss: 0.1013 - val_loss: 0.0999\n",
            "Epoch 7/20\n",
            "60000/60000 [==============================] - 161s 3ms/step - loss: 0.1002 - val_loss: 0.0991\n",
            "Epoch 8/20\n",
            "60000/60000 [==============================] - 161s 3ms/step - loss: 0.0993 - val_loss: 0.0982\n",
            "Epoch 9/20\n",
            "60000/60000 [==============================] - 161s 3ms/step - loss: 0.0987 - val_loss: 0.0982\n",
            "Epoch 10/20\n",
            "60000/60000 [==============================] - 161s 3ms/step - loss: 0.0981 - val_loss: 0.0975\n",
            "Epoch 11/20\n",
            "60000/60000 [==============================] - 161s 3ms/step - loss: 0.0976 - val_loss: 0.0968\n",
            "Epoch 12/20\n",
            "60000/60000 [==============================] - 160s 3ms/step - loss: 0.0972 - val_loss: 0.0963\n",
            "Epoch 13/20\n",
            "60000/60000 [==============================] - 161s 3ms/step - loss: 0.0968 - val_loss: 0.0960\n",
            "Epoch 14/20\n",
            "60000/60000 [==============================] - 159s 3ms/step - loss: 0.0966 - val_loss: 0.0958\n",
            "Epoch 15/20\n",
            "60000/60000 [==============================] - 161s 3ms/step - loss: 0.0963 - val_loss: 0.0955\n",
            "Epoch 16/20\n",
            "60000/60000 [==============================] - 160s 3ms/step - loss: 0.0960 - val_loss: 0.0955\n",
            "Epoch 17/20\n",
            "60000/60000 [==============================] - 161s 3ms/step - loss: 0.0958 - val_loss: 0.0957\n",
            "Epoch 18/20\n",
            "60000/60000 [==============================] - 161s 3ms/step - loss: 0.0957 - val_loss: 0.0950\n",
            "Epoch 19/20\n",
            "60000/60000 [==============================] - 161s 3ms/step - loss: 0.0955 - val_loss: 0.0948\n",
            "Epoch 20/20\n",
            "60000/60000 [==============================] - 161s 3ms/step - loss: 0.0953 - val_loss: 0.0949\n"
          ],
          "name": "stdout"
        },
        {
          "output_type": "execute_result",
          "data": {
            "text/plain": [
              "<keras.callbacks.History at 0x7f00f562cef0>"
            ]
          },
          "metadata": {
            "tags": []
          },
          "execution_count": 115
        }
      ]
    },
    {
      "cell_type": "code",
      "metadata": {
        "id": "tJhtf_WMyM6I",
        "colab_type": "code",
        "colab": {}
      },
      "source": [
        "#test result\n",
        "decoded_imgs = autoencoder.predict(x_test_noisy)"
      ],
      "execution_count": 0,
      "outputs": []
    },
    {
      "cell_type": "code",
      "metadata": {
        "id": "ePTLkYPO5fAe",
        "colab_type": "code",
        "colab": {
          "base_uri": "https://localhost:8080/",
          "height": 286
        },
        "outputId": "f61b49c1-5c5c-4fd0-c563-8c2d262ceedd"
      },
      "source": [
        "#visualize\n",
        "\n",
        "N=1\n",
        "\n",
        "fig=plt.figure()\n",
        "plt.gray()\n",
        "plt.axis('off')\n",
        "\n",
        "fig.add_subplot(1,3,1)\n",
        "plt.imshow(x_test[N].reshape(28, 28))\n",
        "plt.xlabel('Clean Data\\n(Reference)')\n",
        "\n",
        "fig.add_subplot(1,3,2)\n",
        "plt.imshow(x_test_noisy[N].reshape(28, 28))\n",
        "plt.xlabel('Add Noise\\n(Input)')\n",
        "plt.title('Comparison between clean data and de-noised data\\n')\n",
        "\n",
        "fig.add_subplot(1,3,3)\n",
        "plt.imshow(decoded_imgs[N].reshape(28, 28))\n",
        "plt.xlabel('De-Noise\\n(Output)')"
      ],
      "execution_count": 117,
      "outputs": [
        {
          "output_type": "execute_result",
          "data": {
            "text/plain": [
              "Text(0.5, 0, 'De-Noise\\n(Output)')"
            ]
          },
          "metadata": {
            "tags": []
          },
          "execution_count": 117
        },
        {
          "output_type": "display_data",
          "data": {
            "image/png": "[encoded data removed]",
            "text/plain": [
              "<Figure size 432x288 with 4 Axes>"
            ]
          },
          "metadata": {
            "tags": []
          }
        }
      ]
    },
    {
      "cell_type": "code",
      "metadata": {
        "id": "4lOydYBR8dEf",
        "colab_type": "code",
        "colab": {}
      },
      "source": [
        ""
      ],
      "execution_count": 0,
      "outputs": []
    }
  ]
}